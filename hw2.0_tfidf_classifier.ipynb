{
 "cells": [
  {
   "cell_type": "markdown",
   "metadata": {},
   "source": [
    "# Homework 2 - TF-IDF Classifier\n",
    "\n",
    "Ваша цель обучить классификатор который будет находить \"токсичные\" комментарии и опубликовать решения на Kaggle [Toxic Comment Classification Challenge](https://www.kaggle.com/c/jigsaw-toxic-comment-classification-challenge)\n",
    "\n",
    "В процессе обучения нужно ответить на ***[вопросы](https://docs.google.com/forms/d/e/1FAIpQLSd9mQx8EFpSH6FhCy1M_FmISzy3lhgyyqV3TN0pmtop7slmTA/viewform?usp=sf_link)***\n",
    "\n",
    "Данные можно скачать тут - https://www.kaggle.com/c/jigsaw-toxic-comment-classification-challenge/data\n",
    "\n"
   ]
  },
  {
   "cell_type": "code",
   "execution_count": 1,
   "metadata": {},
   "outputs": [],
   "source": [
    "import numpy as np\n",
    "import pandas as pd\n",
    "\n",
    "from sklearn.feature_extraction.text import TfidfVectorizer, CountVectorizer\n",
    "from sklearn.linear_model import LogisticRegression\n",
    "from sklearn.model_selection import cross_val_score\n",
    "from scipy.sparse import hstack\n",
    "from wordcloud import STOPWORDS"
   ]
  },
  {
   "cell_type": "code",
   "execution_count": 2,
   "metadata": {},
   "outputs": [],
   "source": [
    "from IPython.display import Markdown, display\n",
    "def printmd(string):\n",
    "    display(Markdown(string))"
   ]
  },
  {
   "cell_type": "code",
   "execution_count": 3,
   "metadata": {},
   "outputs": [],
   "source": [
    "class_names = ['toxic', 'severe_toxic', 'obscene', 'threat', 'insult', 'identity_hate']\n",
    "train = pd.read_csv('../data/train.csv').fillna(' ')\n",
    "test = pd.read_csv('../data/test.csv').fillna(' ')"
   ]
  },
  {
   "cell_type": "markdown",
   "metadata": {},
   "source": [
    "Стадартными подходами для анализа текста являются [Bag of words](https://en.wikipedia.org/wiki/Bag-of-words_model) и его модификация [TF-IDF](https://en.wikipedia.org/wiki/Tf%E2%80%93idf).\n",
    "\n",
    "Они реалзованны в `sklearn` в виде [CountVectorizer](http://scikit-learn.org/stable/modules/generated/sklearn.feature_extraction.text.CountVectorizer.html) и [TfidfVectorizer](http://scikit-learn.org/stable/modules/generated/sklearn.feature_extraction.text.TfidfVectorizer.html).\n",
    "\n",
    "Более подробней про них можно посмотреть [тут](https://github.com/udsclub/workshop/blob/master/notebooks/UDS-workshop-feature-extraction-and-engineering.ipynb)"
   ]
  },
  {
   "cell_type": "code",
   "execution_count": 4,
   "metadata": {},
   "outputs": [],
   "source": [
    "train_text = train['comment_text']\n",
    "test_text = test['comment_text']\n",
    "all_text = pd.concat([train_text, test_text])"
   ]
  },
  {
   "cell_type": "markdown",
   "metadata": {},
   "source": [
    "word_vectorizer = CountVectorizer(ngram_range=(1,1), max_df=1.0, vocabulary=None, max_features=1, analyzer='word')\n",
    "cv = word_vectorizer.fit(all_text)\n",
    "word = list(word_vectorizer.vocabulary_.keys())[0]\n",
    "printmd('В об\\'єднаному датасеті найчастіше зустрічається слово: **_{}_**'.format(word))"
   ]
  },
  {
   "cell_type": "markdown",
   "metadata": {},
   "source": [
    "Попробуйте разные Vectorizer и разные размеры n-gramm, стоп-слова, обрезку редких слов, обрезку слишком частых слов"
   ]
  },
  {
   "cell_type": "code",
   "execution_count": 5,
   "metadata": {},
   "outputs": [
    {
     "name": "stdout",
     "output_type": "stream",
     "text": [
      "CPU times: user 29.2 s, sys: 280 ms, total: 29.5 s\n",
      "Wall time: 29.6 s\n"
     ]
    }
   ],
   "source": [
    "%%time\n",
    "word_vectorizer_tfidf = TfidfVectorizer( \n",
    "    analyzer='word', \n",
    "    ngram_range=(1, 1),\n",
    "    vocabulary=None, \n",
    "    stop_words=STOPWORDS,\n",
    "    max_features=30000, \n",
    "    smooth_idf=True, \n",
    "    sublinear_tf=True,\n",
    "    min_df=3, \n",
    "    norm='l2',\n",
    "    strip_accents='unicode')\n",
    "\n",
    "word_vectorizer_tfidf.fit(all_text)\n",
    "train_word_features_tfidf = word_vectorizer_tfidf.transform(train_text)\n",
    "test_word_features_tfidf = word_vectorizer_tfidf.transform(test_text)\n",
    "\n",
    "char_vectorizer_tfidf = TfidfVectorizer( \n",
    "    sublinear_tf=True,\n",
    "    analyzer='char_wb', \n",
    "    ngram_range=(3, 5),\n",
    "    max_features=30000, \n",
    "    smooth_idf=False,  \n",
    "    norm='l2',\n",
    "    strip_accents='unicode')\n",
    "\n",
    "char_vectorizer_tfidf.fit(all_text)\n",
    "train_char_features_tfidf = char_vectorizer_tfidf.transform(train_text)\n",
    "test_char_features_tfidf = char_vectorizer_tfidf.transform(test_text)"
   ]
  },
  {
   "cell_type": "code",
   "execution_count": 7,
   "metadata": {},
   "outputs": [
    {
     "name": "stdout",
     "output_type": "stream",
     "text": [
      "CPU times: user 1.92 s, sys: 1.51 s, total: 3.43 s\n",
      "Wall time: 3.42 s\n"
     ]
    }
   ],
   "source": [
    "%%time\n",
    "train_features = hstack([train_word_features_tfidf, train_char_features_tfidf])\n",
    "test_features = hstack([test_word_features_tfidf, test_char_features_tfidf])"
   ]
  },
  {
   "cell_type": "markdown",
   "metadata": {},
   "source": [
    "def max_roc_auc():\n",
    "    l1 = []\n",
    "    l2 = []\n",
    "    start = 0.3\n",
    "    step = 0.1\n",
    "    for class_name in class_names:\n",
    "        mm = 0\n",
    "        cc = 0\n",
    "        ll = cycle(start, class_name)\n",
    "        i = 0\n",
    "        while (i < 30) and (ll[0] > mm):\n",
    "            mm = ll[0]\n",
    "            cc = ll[1]\n",
    "            i += 1\n",
    "            ll = cycle(start + step * (i + 1), class_name)\n",
    "        l1.append(cc) \n",
    "        l2.append(mm)\n",
    "    return l1, l2"
   ]
  },
  {
   "cell_type": "markdown",
   "metadata": {},
   "source": [
    "Для классификации будем использовать логистическую регрессию [LogisticRegression](http://scikit-learn.org/stable/modules/generated/sklearn.linear_model.LogisticRegression.html)."
   ]
  },
  {
   "cell_type": "code",
   "execution_count": 8,
   "metadata": {},
   "outputs": [],
   "source": [
    "def cycle(c, feature):\n",
    "    train_target = train[feature]\n",
    "    classifier = LogisticRegression(C=c, solver='sag', n_jobs=-1)\n",
    "    cv_score = np.mean(cross_val_score(classifier, train_features, train_target, scoring='roc_auc'))\n",
    "    print('CV score for class {} is {} - {}'.format(feature, cv_score, c))\n",
    "    return [cv_score, c]"
   ]
  },
  {
   "cell_type": "markdown",
   "metadata": {},
   "source": [
    "Будем тренировать по одному классификатору на каждый класс. \n",
    "Что бы провалидировать качество модели воспользуемся функцией [cross_val_score](http://scikit-learn.org/stable/modules/generated/sklearn.model_selection.cross_val_score.html)"
   ]
  },
  {
   "cell_type": "markdown",
   "metadata": {},
   "source": [
    "%%time\n",
    "c_wv, scores = max_roc_auc()\n",
    "print('Total score is {}'.format(np.mean(scores)))\n",
    "c_wv"
   ]
  },
  {
   "cell_type": "code",
   "execution_count": null,
   "metadata": {},
   "outputs": [],
   "source": [
    "scores = []\n",
    "c_wv = [1.3, 0.5, 1.2, 1.5, 0.9, 1]\n",
    "for i, j in zip(class_names, c_wv):\n",
    "    scores.append(cycle(j, i)[0])\n",
    "print('Total score is {}'.format(np.mean(scores)))"
   ]
  },
  {
   "cell_type": "markdown",
   "metadata": {},
   "source": [
    "Попробуйте подобрать лучшие параметры для `word_vectorizer` и `classifier` оптимизируя метрику [ROC AUC](https://en.wikipedia.org/wiki/Receiver_operating_characteristic)\n",
    "\n"
   ]
  },
  {
   "cell_type": "markdown",
   "metadata": {},
   "source": [
    "---"
   ]
  },
  {
   "cell_type": "markdown",
   "metadata": {},
   "source": [
    "Опубликуйте лучшие решение на [Kaggle Toxic Comment Classification Challenge](https://www.kaggle.com/c/jigsaw-toxic-comment-classification-challenge/submit)"
   ]
  },
  {
   "cell_type": "code",
   "execution_count": null,
   "metadata": {},
   "outputs": [],
   "source": [
    "submission = pd.DataFrame.from_dict({'id': test['id']})"
   ]
  },
  {
   "cell_type": "code",
   "execution_count": null,
   "metadata": {},
   "outputs": [],
   "source": [
    "%%time\n",
    "for c, class_name in zip(c_wv, class_names):\n",
    "    classifier = LogisticRegression(C=c, solver='sag', n_jobs=-1)\n",
    "    train_target = train[class_name]\n",
    "    classifier.fit(train_features, train_target)\n",
    "    submission[class_name] = classifier.predict_proba(test_features)[:, 1]"
   ]
  },
  {
   "cell_type": "code",
   "execution_count": null,
   "metadata": {},
   "outputs": [],
   "source": [
    "submission.to_csv('submission.csv', index=False)"
   ]
  }
 ],
 "metadata": {
  "kernelspec": {
   "display_name": "Python 3",
   "language": "python",
   "name": "python3"
  },
  "language_info": {
   "codemirror_mode": {
    "name": "ipython",
    "version": 3
   },
   "file_extension": ".py",
   "mimetype": "text/x-python",
   "name": "python",
   "nbconvert_exporter": "python",
   "pygments_lexer": "ipython3",
   "version": "3.5.2"
  }
 },
 "nbformat": 4,
 "nbformat_minor": 2
}
